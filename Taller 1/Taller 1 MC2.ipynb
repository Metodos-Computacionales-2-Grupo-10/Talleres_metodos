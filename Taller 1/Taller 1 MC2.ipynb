{
 "cells": [
  {
   "cell_type": "code",
   "execution_count": 8,
   "id": "027f4b73",
   "metadata": {},
   "outputs": [
    {
     "name": "stdout",
     "output_type": "stream",
     "text": [
      " El volumen de la unidad C es Windows-SSD\n",
      " El n�mero de serie del volumen es: FC6F-F880\n",
      "\n",
      " Directorio de c:\\Users\\veron\\Downloads\\mammography_spectra\n",
      "\n",
      "05/08/2025  06:13 p.�m.    <DIR>          .\n",
      "05/08/2025  06:13 p.�m.    <DIR>          ..\n",
      "05/08/2025  06:01 p.�m.    <DIR>          Mo_unfiltered_10kV-50kV\n",
      "05/08/2025  06:01 p.�m.             1.225 README_OAR_mammography_spectra.txt\n",
      "05/08/2025  06:01 p.�m.    <DIR>          Rh_unfiltered_10kV-50kV\n",
      "05/08/2025  06:20 p.�m.            14.202 Taller 1 MC2.ipynb\n",
      "05/08/2025  06:01 p.�m.    <DIR>          W_unfiltered_10kV-50kV\n",
      "               2 archivos         15.427 bytes\n",
      "               5 dirs  377.086.455.808 bytes libres\n"
     ]
    }
   ],
   "source": [
    "!dir"
   ]
  },
  {
   "cell_type": "code",
   "execution_count": 6,
   "id": "5b2db38e",
   "metadata": {},
   "outputs": [],
   "source": [
    "import numpy as np\n",
    "import pandas as pd\n",
    "from glob import glob"
   ]
  },
  {
   "cell_type": "code",
   "execution_count": 10,
   "id": "0175d5bf",
   "metadata": {},
   "outputs": [
    {
     "data": {
      "text/plain": [
       "['Mo_unfiltered_10kV-50kV\\\\Mo_10kV.dat',\n",
       " 'Mo_unfiltered_10kV-50kV\\\\Mo_11kV.dat',\n",
       " 'Mo_unfiltered_10kV-50kV\\\\Mo_12kV.dat',\n",
       " 'Mo_unfiltered_10kV-50kV\\\\Mo_13kV.dat',\n",
       " 'Mo_unfiltered_10kV-50kV\\\\Mo_14kV.dat',\n",
       " 'Mo_unfiltered_10kV-50kV\\\\Mo_15kV.dat',\n",
       " 'Mo_unfiltered_10kV-50kV\\\\Mo_16kV.dat',\n",
       " 'Mo_unfiltered_10kV-50kV\\\\Mo_17kV.dat',\n",
       " 'Mo_unfiltered_10kV-50kV\\\\Mo_18kV.dat',\n",
       " 'Mo_unfiltered_10kV-50kV\\\\Mo_19kV.dat',\n",
       " 'Mo_unfiltered_10kV-50kV\\\\Mo_20kV.dat',\n",
       " 'Mo_unfiltered_10kV-50kV\\\\Mo_21kV.dat',\n",
       " 'Mo_unfiltered_10kV-50kV\\\\Mo_22kV.dat',\n",
       " 'Mo_unfiltered_10kV-50kV\\\\Mo_23kV.dat',\n",
       " 'Mo_unfiltered_10kV-50kV\\\\Mo_24kV.dat',\n",
       " 'Mo_unfiltered_10kV-50kV\\\\Mo_25kV.dat',\n",
       " 'Mo_unfiltered_10kV-50kV\\\\Mo_26kV.dat',\n",
       " 'Mo_unfiltered_10kV-50kV\\\\Mo_27kV.dat',\n",
       " 'Mo_unfiltered_10kV-50kV\\\\Mo_28kV.dat',\n",
       " 'Mo_unfiltered_10kV-50kV\\\\Mo_29kV.dat',\n",
       " 'Mo_unfiltered_10kV-50kV\\\\Mo_30kV.dat',\n",
       " 'Mo_unfiltered_10kV-50kV\\\\Mo_31kV.dat',\n",
       " 'Mo_unfiltered_10kV-50kV\\\\Mo_32kV.dat',\n",
       " 'Mo_unfiltered_10kV-50kV\\\\Mo_33kV.dat',\n",
       " 'Mo_unfiltered_10kV-50kV\\\\Mo_34kV.dat',\n",
       " 'Mo_unfiltered_10kV-50kV\\\\Mo_35kV.dat',\n",
       " 'Mo_unfiltered_10kV-50kV\\\\Mo_36kV.dat',\n",
       " 'Mo_unfiltered_10kV-50kV\\\\Mo_37kV.dat',\n",
       " 'Mo_unfiltered_10kV-50kV\\\\Mo_38kV.dat',\n",
       " 'Mo_unfiltered_10kV-50kV\\\\Mo_39kV.dat',\n",
       " 'Mo_unfiltered_10kV-50kV\\\\Mo_40kV.dat',\n",
       " 'Mo_unfiltered_10kV-50kV\\\\Mo_41kV.dat',\n",
       " 'Mo_unfiltered_10kV-50kV\\\\Mo_42kV.dat',\n",
       " 'Mo_unfiltered_10kV-50kV\\\\Mo_43kV.dat',\n",
       " 'Mo_unfiltered_10kV-50kV\\\\Mo_44kV.dat',\n",
       " 'Mo_unfiltered_10kV-50kV\\\\Mo_45kV.dat',\n",
       " 'Mo_unfiltered_10kV-50kV\\\\Mo_46kV.dat',\n",
       " 'Mo_unfiltered_10kV-50kV\\\\Mo_47kV.dat',\n",
       " 'Mo_unfiltered_10kV-50kV\\\\Mo_48kV.dat',\n",
       " 'Mo_unfiltered_10kV-50kV\\\\Mo_49kV.dat',\n",
       " 'Mo_unfiltered_10kV-50kV\\\\Mo_50kV.dat',\n",
       " 'Rh_unfiltered_10kV-50kV\\\\Rh_10kV.dat',\n",
       " 'Rh_unfiltered_10kV-50kV\\\\Rh_11kV.dat',\n",
       " 'Rh_unfiltered_10kV-50kV\\\\Rh_12kV.dat',\n",
       " 'Rh_unfiltered_10kV-50kV\\\\Rh_13kV.dat',\n",
       " 'Rh_unfiltered_10kV-50kV\\\\Rh_14kV.dat',\n",
       " 'Rh_unfiltered_10kV-50kV\\\\Rh_15kV.dat',\n",
       " 'Rh_unfiltered_10kV-50kV\\\\Rh_16kV.dat',\n",
       " 'Rh_unfiltered_10kV-50kV\\\\Rh_17kV.dat',\n",
       " 'Rh_unfiltered_10kV-50kV\\\\Rh_18kV.dat',\n",
       " 'Rh_unfiltered_10kV-50kV\\\\Rh_19kV.dat',\n",
       " 'Rh_unfiltered_10kV-50kV\\\\Rh_20kV.dat',\n",
       " 'Rh_unfiltered_10kV-50kV\\\\Rh_21kV.dat',\n",
       " 'Rh_unfiltered_10kV-50kV\\\\Rh_22kV.dat',\n",
       " 'Rh_unfiltered_10kV-50kV\\\\Rh_23kV.dat',\n",
       " 'Rh_unfiltered_10kV-50kV\\\\Rh_24kV.dat',\n",
       " 'Rh_unfiltered_10kV-50kV\\\\Rh_25kV.dat',\n",
       " 'Rh_unfiltered_10kV-50kV\\\\Rh_26kV.dat',\n",
       " 'Rh_unfiltered_10kV-50kV\\\\Rh_27kV.dat',\n",
       " 'Rh_unfiltered_10kV-50kV\\\\Rh_28kV.dat',\n",
       " 'Rh_unfiltered_10kV-50kV\\\\Rh_29kV.dat',\n",
       " 'Rh_unfiltered_10kV-50kV\\\\Rh_30kV.dat',\n",
       " 'Rh_unfiltered_10kV-50kV\\\\Rh_31kV.dat',\n",
       " 'Rh_unfiltered_10kV-50kV\\\\Rh_32kV.dat',\n",
       " 'Rh_unfiltered_10kV-50kV\\\\Rh_33kV.dat',\n",
       " 'Rh_unfiltered_10kV-50kV\\\\Rh_34kV.dat',\n",
       " 'Rh_unfiltered_10kV-50kV\\\\Rh_35kV.dat',\n",
       " 'Rh_unfiltered_10kV-50kV\\\\Rh_36kV.dat',\n",
       " 'Rh_unfiltered_10kV-50kV\\\\Rh_37kV.dat',\n",
       " 'Rh_unfiltered_10kV-50kV\\\\Rh_38kV.dat',\n",
       " 'Rh_unfiltered_10kV-50kV\\\\Rh_39kV.dat',\n",
       " 'Rh_unfiltered_10kV-50kV\\\\Rh_40kV.dat',\n",
       " 'Rh_unfiltered_10kV-50kV\\\\Rh_41kV.dat',\n",
       " 'Rh_unfiltered_10kV-50kV\\\\Rh_42kV.dat',\n",
       " 'Rh_unfiltered_10kV-50kV\\\\Rh_43kV.dat',\n",
       " 'Rh_unfiltered_10kV-50kV\\\\Rh_44kV.dat',\n",
       " 'Rh_unfiltered_10kV-50kV\\\\Rh_45kV.dat',\n",
       " 'Rh_unfiltered_10kV-50kV\\\\Rh_46kV.dat',\n",
       " 'Rh_unfiltered_10kV-50kV\\\\Rh_47kV.dat',\n",
       " 'Rh_unfiltered_10kV-50kV\\\\Rh_48kV.dat',\n",
       " 'Rh_unfiltered_10kV-50kV\\\\Rh_49kV.dat',\n",
       " 'Rh_unfiltered_10kV-50kV\\\\Rh_50kV.dat',\n",
       " 'W_unfiltered_10kV-50kV\\\\W_10kV.dat',\n",
       " 'W_unfiltered_10kV-50kV\\\\W_11kV.dat',\n",
       " 'W_unfiltered_10kV-50kV\\\\W_12kV.dat',\n",
       " 'W_unfiltered_10kV-50kV\\\\W_13kV.dat',\n",
       " 'W_unfiltered_10kV-50kV\\\\W_14kV.dat',\n",
       " 'W_unfiltered_10kV-50kV\\\\W_15kV.dat',\n",
       " 'W_unfiltered_10kV-50kV\\\\W_16kV.dat',\n",
       " 'W_unfiltered_10kV-50kV\\\\W_17kV.dat',\n",
       " 'W_unfiltered_10kV-50kV\\\\W_18kV.dat',\n",
       " 'W_unfiltered_10kV-50kV\\\\W_19kV.dat',\n",
       " 'W_unfiltered_10kV-50kV\\\\W_20kV.dat',\n",
       " 'W_unfiltered_10kV-50kV\\\\W_21kV.dat',\n",
       " 'W_unfiltered_10kV-50kV\\\\W_22kV.dat',\n",
       " 'W_unfiltered_10kV-50kV\\\\W_23kV.dat',\n",
       " 'W_unfiltered_10kV-50kV\\\\W_24kV.dat',\n",
       " 'W_unfiltered_10kV-50kV\\\\W_25kV.dat',\n",
       " 'W_unfiltered_10kV-50kV\\\\W_26kV.dat',\n",
       " 'W_unfiltered_10kV-50kV\\\\W_27kV.dat',\n",
       " 'W_unfiltered_10kV-50kV\\\\W_28kV.dat',\n",
       " 'W_unfiltered_10kV-50kV\\\\W_29kV.dat',\n",
       " 'W_unfiltered_10kV-50kV\\\\W_30kV.dat',\n",
       " 'W_unfiltered_10kV-50kV\\\\W_31kV.dat',\n",
       " 'W_unfiltered_10kV-50kV\\\\W_32kV.dat',\n",
       " 'W_unfiltered_10kV-50kV\\\\W_33kV.dat',\n",
       " 'W_unfiltered_10kV-50kV\\\\W_34kV.dat',\n",
       " 'W_unfiltered_10kV-50kV\\\\W_35kV.dat',\n",
       " 'W_unfiltered_10kV-50kV\\\\W_36kV.dat',\n",
       " 'W_unfiltered_10kV-50kV\\\\W_37kV.dat',\n",
       " 'W_unfiltered_10kV-50kV\\\\W_38kV.dat',\n",
       " 'W_unfiltered_10kV-50kV\\\\W_39kV.dat',\n",
       " 'W_unfiltered_10kV-50kV\\\\W_40kV.dat',\n",
       " 'W_unfiltered_10kV-50kV\\\\W_41kV.dat',\n",
       " 'W_unfiltered_10kV-50kV\\\\W_42kV.dat',\n",
       " 'W_unfiltered_10kV-50kV\\\\W_43kV.dat',\n",
       " 'W_unfiltered_10kV-50kV\\\\W_44kV.dat',\n",
       " 'W_unfiltered_10kV-50kV\\\\W_45kV.dat',\n",
       " 'W_unfiltered_10kV-50kV\\\\W_46kV.dat',\n",
       " 'W_unfiltered_10kV-50kV\\\\W_47kV.dat',\n",
       " 'W_unfiltered_10kV-50kV\\\\W_48kV.dat',\n",
       " 'W_unfiltered_10kV-50kV\\\\W_49kV.dat',\n",
       " 'W_unfiltered_10kV-50kV\\\\W_50kV.dat']"
      ]
     },
     "execution_count": 10,
     "metadata": {},
     "output_type": "execute_result"
    }
   ],
   "source": [
    "glob(\"*/*.dat\")"
   ]
  },
  {
   "cell_type": "code",
   "execution_count": null,
   "id": "d163f458",
   "metadata": {},
   "outputs": [
    {
     "ename": "FileNotFoundError",
     "evalue": "[Errno 2] No such file or directory: 'Mo_10kV.dat'",
     "output_type": "error",
     "traceback": [
      "\u001b[1;31m---------------------------------------------------------------------------\u001b[0m",
      "\u001b[1;31mFileNotFoundError\u001b[0m                         Traceback (most recent call last)",
      "Input \u001b[1;32mIn [3]\u001b[0m, in \u001b[0;36m<cell line: 1>\u001b[1;34m()\u001b[0m\n\u001b[0;32m      1\u001b[0m \u001b[38;5;28;01mfor\u001b[39;00m i \u001b[38;5;129;01min\u001b[39;00m \u001b[38;5;28mrange\u001b[39m(\u001b[38;5;241m10\u001b[39m,\u001b[38;5;241m50\u001b[39m):\n\u001b[1;32m----> 2\u001b[0m     \u001b[43mpd\u001b[49m\u001b[38;5;241;43m.\u001b[39;49m\u001b[43mread_table\u001b[49m\u001b[43m(\u001b[49m\u001b[38;5;124;43m\"\u001b[39;49m\u001b[38;5;124;43mMo_\u001b[39;49m\u001b[38;5;124;43m\"\u001b[39;49m\u001b[38;5;241;43m+\u001b[39;49m\u001b[38;5;28;43mstr\u001b[39;49m\u001b[43m(\u001b[49m\u001b[43mi\u001b[49m\u001b[43m)\u001b[49m\u001b[38;5;241;43m+\u001b[39;49m\u001b[38;5;124;43m\"\u001b[39;49m\u001b[38;5;124;43mkV.dat\u001b[39;49m\u001b[38;5;124;43m\"\u001b[39;49m\u001b[43m)\u001b[49m\n",
      "File \u001b[1;32mc:\\Users\\veron\\anaconda3\\lib\\site-packages\\pandas\\util\\_decorators.py:311\u001b[0m, in \u001b[0;36mdeprecate_nonkeyword_arguments.<locals>.decorate.<locals>.wrapper\u001b[1;34m(*args, **kwargs)\u001b[0m\n\u001b[0;32m    305\u001b[0m \u001b[38;5;28;01mif\u001b[39;00m \u001b[38;5;28mlen\u001b[39m(args) \u001b[38;5;241m>\u001b[39m num_allow_args:\n\u001b[0;32m    306\u001b[0m     warnings\u001b[38;5;241m.\u001b[39mwarn(\n\u001b[0;32m    307\u001b[0m         msg\u001b[38;5;241m.\u001b[39mformat(arguments\u001b[38;5;241m=\u001b[39marguments),\n\u001b[0;32m    308\u001b[0m         \u001b[38;5;167;01mFutureWarning\u001b[39;00m,\n\u001b[0;32m    309\u001b[0m         stacklevel\u001b[38;5;241m=\u001b[39mstacklevel,\n\u001b[0;32m    310\u001b[0m     )\n\u001b[1;32m--> 311\u001b[0m \u001b[38;5;28;01mreturn\u001b[39;00m func(\u001b[38;5;241m*\u001b[39margs, \u001b[38;5;241m*\u001b[39m\u001b[38;5;241m*\u001b[39mkwargs)\n",
      "File \u001b[1;32mc:\\Users\\veron\\anaconda3\\lib\\site-packages\\pandas\\io\\parsers\\readers.py:779\u001b[0m, in \u001b[0;36mread_table\u001b[1;34m(filepath_or_buffer, sep, delimiter, header, names, index_col, usecols, squeeze, prefix, mangle_dupe_cols, dtype, engine, converters, true_values, false_values, skipinitialspace, skiprows, skipfooter, nrows, na_values, keep_default_na, na_filter, verbose, skip_blank_lines, parse_dates, infer_datetime_format, keep_date_col, date_parser, dayfirst, cache_dates, iterator, chunksize, compression, thousands, decimal, lineterminator, quotechar, quoting, doublequote, escapechar, comment, encoding, encoding_errors, dialect, error_bad_lines, warn_bad_lines, on_bad_lines, delim_whitespace, low_memory, memory_map, float_precision, storage_options)\u001b[0m\n\u001b[0;32m    764\u001b[0m kwds_defaults \u001b[38;5;241m=\u001b[39m _refine_defaults_read(\n\u001b[0;32m    765\u001b[0m     dialect,\n\u001b[0;32m    766\u001b[0m     delimiter,\n\u001b[1;32m   (...)\u001b[0m\n\u001b[0;32m    775\u001b[0m     defaults\u001b[38;5;241m=\u001b[39m{\u001b[38;5;124m\"\u001b[39m\u001b[38;5;124mdelimiter\u001b[39m\u001b[38;5;124m\"\u001b[39m: \u001b[38;5;124m\"\u001b[39m\u001b[38;5;130;01m\\t\u001b[39;00m\u001b[38;5;124m\"\u001b[39m},\n\u001b[0;32m    776\u001b[0m )\n\u001b[0;32m    777\u001b[0m kwds\u001b[38;5;241m.\u001b[39mupdate(kwds_defaults)\n\u001b[1;32m--> 779\u001b[0m \u001b[38;5;28;01mreturn\u001b[39;00m \u001b[43m_read\u001b[49m\u001b[43m(\u001b[49m\u001b[43mfilepath_or_buffer\u001b[49m\u001b[43m,\u001b[49m\u001b[43m \u001b[49m\u001b[43mkwds\u001b[49m\u001b[43m)\u001b[49m\n",
      "File \u001b[1;32mc:\\Users\\veron\\anaconda3\\lib\\site-packages\\pandas\\io\\parsers\\readers.py:575\u001b[0m, in \u001b[0;36m_read\u001b[1;34m(filepath_or_buffer, kwds)\u001b[0m\n\u001b[0;32m    572\u001b[0m _validate_names(kwds\u001b[38;5;241m.\u001b[39mget(\u001b[38;5;124m\"\u001b[39m\u001b[38;5;124mnames\u001b[39m\u001b[38;5;124m\"\u001b[39m, \u001b[38;5;28;01mNone\u001b[39;00m))\n\u001b[0;32m    574\u001b[0m \u001b[38;5;66;03m# Create the parser.\u001b[39;00m\n\u001b[1;32m--> 575\u001b[0m parser \u001b[38;5;241m=\u001b[39m TextFileReader(filepath_or_buffer, \u001b[38;5;241m*\u001b[39m\u001b[38;5;241m*\u001b[39mkwds)\n\u001b[0;32m    577\u001b[0m \u001b[38;5;28;01mif\u001b[39;00m chunksize \u001b[38;5;129;01mor\u001b[39;00m iterator:\n\u001b[0;32m    578\u001b[0m     \u001b[38;5;28;01mreturn\u001b[39;00m parser\n",
      "File \u001b[1;32mc:\\Users\\veron\\anaconda3\\lib\\site-packages\\pandas\\io\\parsers\\readers.py:933\u001b[0m, in \u001b[0;36mTextFileReader.__init__\u001b[1;34m(self, f, engine, **kwds)\u001b[0m\n\u001b[0;32m    930\u001b[0m     \u001b[38;5;28mself\u001b[39m\u001b[38;5;241m.\u001b[39moptions[\u001b[38;5;124m\"\u001b[39m\u001b[38;5;124mhas_index_names\u001b[39m\u001b[38;5;124m\"\u001b[39m] \u001b[38;5;241m=\u001b[39m kwds[\u001b[38;5;124m\"\u001b[39m\u001b[38;5;124mhas_index_names\u001b[39m\u001b[38;5;124m\"\u001b[39m]\n\u001b[0;32m    932\u001b[0m \u001b[38;5;28mself\u001b[39m\u001b[38;5;241m.\u001b[39mhandles: IOHandles \u001b[38;5;241m|\u001b[39m \u001b[38;5;28;01mNone\u001b[39;00m \u001b[38;5;241m=\u001b[39m \u001b[38;5;28;01mNone\u001b[39;00m\n\u001b[1;32m--> 933\u001b[0m \u001b[38;5;28mself\u001b[39m\u001b[38;5;241m.\u001b[39m_engine \u001b[38;5;241m=\u001b[39m \u001b[38;5;28;43mself\u001b[39;49m\u001b[38;5;241;43m.\u001b[39;49m\u001b[43m_make_engine\u001b[49m\u001b[43m(\u001b[49m\u001b[43mf\u001b[49m\u001b[43m,\u001b[49m\u001b[43m \u001b[49m\u001b[38;5;28;43mself\u001b[39;49m\u001b[38;5;241;43m.\u001b[39;49m\u001b[43mengine\u001b[49m\u001b[43m)\u001b[49m\n",
      "File \u001b[1;32mc:\\Users\\veron\\anaconda3\\lib\\site-packages\\pandas\\io\\parsers\\readers.py:1217\u001b[0m, in \u001b[0;36mTextFileReader._make_engine\u001b[1;34m(self, f, engine)\u001b[0m\n\u001b[0;32m   1213\u001b[0m     mode \u001b[38;5;241m=\u001b[39m \u001b[38;5;124m\"\u001b[39m\u001b[38;5;124mrb\u001b[39m\u001b[38;5;124m\"\u001b[39m\n\u001b[0;32m   1214\u001b[0m \u001b[38;5;66;03m# error: No overload variant of \"get_handle\" matches argument types\u001b[39;00m\n\u001b[0;32m   1215\u001b[0m \u001b[38;5;66;03m# \"Union[str, PathLike[str], ReadCsvBuffer[bytes], ReadCsvBuffer[str]]\"\u001b[39;00m\n\u001b[0;32m   1216\u001b[0m \u001b[38;5;66;03m# , \"str\", \"bool\", \"Any\", \"Any\", \"Any\", \"Any\", \"Any\"\u001b[39;00m\n\u001b[1;32m-> 1217\u001b[0m \u001b[38;5;28mself\u001b[39m\u001b[38;5;241m.\u001b[39mhandles \u001b[38;5;241m=\u001b[39m \u001b[43mget_handle\u001b[49m\u001b[43m(\u001b[49m\u001b[43m  \u001b[49m\u001b[38;5;66;43;03m# type: ignore[call-overload]\u001b[39;49;00m\n\u001b[0;32m   1218\u001b[0m \u001b[43m    \u001b[49m\u001b[43mf\u001b[49m\u001b[43m,\u001b[49m\n\u001b[0;32m   1219\u001b[0m \u001b[43m    \u001b[49m\u001b[43mmode\u001b[49m\u001b[43m,\u001b[49m\n\u001b[0;32m   1220\u001b[0m \u001b[43m    \u001b[49m\u001b[43mencoding\u001b[49m\u001b[38;5;241;43m=\u001b[39;49m\u001b[38;5;28;43mself\u001b[39;49m\u001b[38;5;241;43m.\u001b[39;49m\u001b[43moptions\u001b[49m\u001b[38;5;241;43m.\u001b[39;49m\u001b[43mget\u001b[49m\u001b[43m(\u001b[49m\u001b[38;5;124;43m\"\u001b[39;49m\u001b[38;5;124;43mencoding\u001b[39;49m\u001b[38;5;124;43m\"\u001b[39;49m\u001b[43m,\u001b[49m\u001b[43m \u001b[49m\u001b[38;5;28;43;01mNone\u001b[39;49;00m\u001b[43m)\u001b[49m\u001b[43m,\u001b[49m\n\u001b[0;32m   1221\u001b[0m \u001b[43m    \u001b[49m\u001b[43mcompression\u001b[49m\u001b[38;5;241;43m=\u001b[39;49m\u001b[38;5;28;43mself\u001b[39;49m\u001b[38;5;241;43m.\u001b[39;49m\u001b[43moptions\u001b[49m\u001b[38;5;241;43m.\u001b[39;49m\u001b[43mget\u001b[49m\u001b[43m(\u001b[49m\u001b[38;5;124;43m\"\u001b[39;49m\u001b[38;5;124;43mcompression\u001b[39;49m\u001b[38;5;124;43m\"\u001b[39;49m\u001b[43m,\u001b[49m\u001b[43m \u001b[49m\u001b[38;5;28;43;01mNone\u001b[39;49;00m\u001b[43m)\u001b[49m\u001b[43m,\u001b[49m\n\u001b[0;32m   1222\u001b[0m \u001b[43m    \u001b[49m\u001b[43mmemory_map\u001b[49m\u001b[38;5;241;43m=\u001b[39;49m\u001b[38;5;28;43mself\u001b[39;49m\u001b[38;5;241;43m.\u001b[39;49m\u001b[43moptions\u001b[49m\u001b[38;5;241;43m.\u001b[39;49m\u001b[43mget\u001b[49m\u001b[43m(\u001b[49m\u001b[38;5;124;43m\"\u001b[39;49m\u001b[38;5;124;43mmemory_map\u001b[39;49m\u001b[38;5;124;43m\"\u001b[39;49m\u001b[43m,\u001b[49m\u001b[43m \u001b[49m\u001b[38;5;28;43;01mFalse\u001b[39;49;00m\u001b[43m)\u001b[49m\u001b[43m,\u001b[49m\n\u001b[0;32m   1223\u001b[0m \u001b[43m    \u001b[49m\u001b[43mis_text\u001b[49m\u001b[38;5;241;43m=\u001b[39;49m\u001b[43mis_text\u001b[49m\u001b[43m,\u001b[49m\n\u001b[0;32m   1224\u001b[0m \u001b[43m    \u001b[49m\u001b[43merrors\u001b[49m\u001b[38;5;241;43m=\u001b[39;49m\u001b[38;5;28;43mself\u001b[39;49m\u001b[38;5;241;43m.\u001b[39;49m\u001b[43moptions\u001b[49m\u001b[38;5;241;43m.\u001b[39;49m\u001b[43mget\u001b[49m\u001b[43m(\u001b[49m\u001b[38;5;124;43m\"\u001b[39;49m\u001b[38;5;124;43mencoding_errors\u001b[39;49m\u001b[38;5;124;43m\"\u001b[39;49m\u001b[43m,\u001b[49m\u001b[43m \u001b[49m\u001b[38;5;124;43m\"\u001b[39;49m\u001b[38;5;124;43mstrict\u001b[39;49m\u001b[38;5;124;43m\"\u001b[39;49m\u001b[43m)\u001b[49m\u001b[43m,\u001b[49m\n\u001b[0;32m   1225\u001b[0m \u001b[43m    \u001b[49m\u001b[43mstorage_options\u001b[49m\u001b[38;5;241;43m=\u001b[39;49m\u001b[38;5;28;43mself\u001b[39;49m\u001b[38;5;241;43m.\u001b[39;49m\u001b[43moptions\u001b[49m\u001b[38;5;241;43m.\u001b[39;49m\u001b[43mget\u001b[49m\u001b[43m(\u001b[49m\u001b[38;5;124;43m\"\u001b[39;49m\u001b[38;5;124;43mstorage_options\u001b[39;49m\u001b[38;5;124;43m\"\u001b[39;49m\u001b[43m,\u001b[49m\u001b[43m \u001b[49m\u001b[38;5;28;43;01mNone\u001b[39;49;00m\u001b[43m)\u001b[49m\u001b[43m,\u001b[49m\n\u001b[0;32m   1226\u001b[0m \u001b[43m\u001b[49m\u001b[43m)\u001b[49m\n\u001b[0;32m   1227\u001b[0m \u001b[38;5;28;01massert\u001b[39;00m \u001b[38;5;28mself\u001b[39m\u001b[38;5;241m.\u001b[39mhandles \u001b[38;5;129;01mis\u001b[39;00m \u001b[38;5;129;01mnot\u001b[39;00m \u001b[38;5;28;01mNone\u001b[39;00m\n\u001b[0;32m   1228\u001b[0m f \u001b[38;5;241m=\u001b[39m \u001b[38;5;28mself\u001b[39m\u001b[38;5;241m.\u001b[39mhandles\u001b[38;5;241m.\u001b[39mhandle\n",
      "File \u001b[1;32mc:\\Users\\veron\\anaconda3\\lib\\site-packages\\pandas\\io\\common.py:789\u001b[0m, in \u001b[0;36mget_handle\u001b[1;34m(path_or_buf, mode, encoding, compression, memory_map, is_text, errors, storage_options)\u001b[0m\n\u001b[0;32m    784\u001b[0m \u001b[38;5;28;01melif\u001b[39;00m \u001b[38;5;28misinstance\u001b[39m(handle, \u001b[38;5;28mstr\u001b[39m):\n\u001b[0;32m    785\u001b[0m     \u001b[38;5;66;03m# Check whether the filename is to be opened in binary mode.\u001b[39;00m\n\u001b[0;32m    786\u001b[0m     \u001b[38;5;66;03m# Binary mode does not support 'encoding' and 'newline'.\u001b[39;00m\n\u001b[0;32m    787\u001b[0m     \u001b[38;5;28;01mif\u001b[39;00m ioargs\u001b[38;5;241m.\u001b[39mencoding \u001b[38;5;129;01mand\u001b[39;00m \u001b[38;5;124m\"\u001b[39m\u001b[38;5;124mb\u001b[39m\u001b[38;5;124m\"\u001b[39m \u001b[38;5;129;01mnot\u001b[39;00m \u001b[38;5;129;01min\u001b[39;00m ioargs\u001b[38;5;241m.\u001b[39mmode:\n\u001b[0;32m    788\u001b[0m         \u001b[38;5;66;03m# Encoding\u001b[39;00m\n\u001b[1;32m--> 789\u001b[0m         handle \u001b[38;5;241m=\u001b[39m \u001b[38;5;28;43mopen\u001b[39;49m\u001b[43m(\u001b[49m\n\u001b[0;32m    790\u001b[0m \u001b[43m            \u001b[49m\u001b[43mhandle\u001b[49m\u001b[43m,\u001b[49m\n\u001b[0;32m    791\u001b[0m \u001b[43m            \u001b[49m\u001b[43mioargs\u001b[49m\u001b[38;5;241;43m.\u001b[39;49m\u001b[43mmode\u001b[49m\u001b[43m,\u001b[49m\n\u001b[0;32m    792\u001b[0m \u001b[43m            \u001b[49m\u001b[43mencoding\u001b[49m\u001b[38;5;241;43m=\u001b[39;49m\u001b[43mioargs\u001b[49m\u001b[38;5;241;43m.\u001b[39;49m\u001b[43mencoding\u001b[49m\u001b[43m,\u001b[49m\n\u001b[0;32m    793\u001b[0m \u001b[43m            \u001b[49m\u001b[43merrors\u001b[49m\u001b[38;5;241;43m=\u001b[39;49m\u001b[43merrors\u001b[49m\u001b[43m,\u001b[49m\n\u001b[0;32m    794\u001b[0m \u001b[43m            \u001b[49m\u001b[43mnewline\u001b[49m\u001b[38;5;241;43m=\u001b[39;49m\u001b[38;5;124;43m\"\u001b[39;49m\u001b[38;5;124;43m\"\u001b[39;49m\u001b[43m,\u001b[49m\n\u001b[0;32m    795\u001b[0m \u001b[43m        \u001b[49m\u001b[43m)\u001b[49m\n\u001b[0;32m    796\u001b[0m     \u001b[38;5;28;01melse\u001b[39;00m:\n\u001b[0;32m    797\u001b[0m         \u001b[38;5;66;03m# Binary mode\u001b[39;00m\n\u001b[0;32m    798\u001b[0m         handle \u001b[38;5;241m=\u001b[39m \u001b[38;5;28mopen\u001b[39m(handle, ioargs\u001b[38;5;241m.\u001b[39mmode)\n",
      "\u001b[1;31mFileNotFoundError\u001b[0m: [Errno 2] No such file or directory: 'Mo_10kV.dat'"
     ]
    }
   ],
   "source": [
    "#scipy y signal"
   ]
  }
 ],
 "metadata": {
  "kernelspec": {
   "display_name": "base",
   "language": "python",
   "name": "python3"
  },
  "language_info": {
   "codemirror_mode": {
    "name": "ipython",
    "version": 3
   },
   "file_extension": ".py",
   "mimetype": "text/x-python",
   "name": "python",
   "nbconvert_exporter": "python",
   "pygments_lexer": "ipython3",
   "version": "3.9.12"
  }
 },
 "nbformat": 4,
 "nbformat_minor": 5
}
